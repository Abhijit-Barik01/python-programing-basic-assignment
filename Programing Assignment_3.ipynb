{
 "cells": [
  {
   "cell_type": "code",
   "execution_count": 1,
   "metadata": {},
   "outputs": [
    {
     "name": "stdout",
     "output_type": "stream",
     "text": [
      "Enter a number:5\n",
      "5.0 is positive number\n"
     ]
    }
   ],
   "source": [
    "#Write a Python Program to Check if a Number is Positive, Negative or Zero?\n",
    "a=float(input(\"Enter a number:\"))\n",
    "if a < 0:\n",
    "    print (a,\"is a negative number\")\n",
    "if a > 0:\n",
    "    print(a,\"is positive number\")\n",
    "if a==0:\n",
    "    print(a,\"is zero\")"
   ]
  },
  {
   "cell_type": "code",
   "execution_count": 2,
   "metadata": {},
   "outputs": [
    {
     "name": "stdout",
     "output_type": "stream",
     "text": [
      "Enter an integer greater than zero:6\n",
      "6 is an Even number\n"
     ]
    }
   ],
   "source": [
    "#Write a Python Program to Check if a Number is Odd or Even?\n",
    "a=int(input(\"Enter an integer greater than zero:\"))\n",
    "if a > 0:\n",
    "    if a%2 == 0:\n",
    "        print(a,\"is an Even number\")\n",
    "    else:\n",
    "        print(a,\"is an Odd number\")\n",
    "else:\n",
    "    print(\"Enter a number greater than zero\")"
   ]
  },
  {
   "cell_type": "code",
   "execution_count": 3,
   "metadata": {},
   "outputs": [
    {
     "name": "stdout",
     "output_type": "stream",
     "text": [
      "Enter the year in YYYY format:2000\n",
      "The year 2000 is a leap year\n"
     ]
    }
   ],
   "source": [
    "#Write a Python Program to Check Leap Year?\n",
    "y=int(input(\"Enter the year in YYYY format:\"))\n",
    "if (y%4==0 and (y%400==0 or y%100!=0)):\n",
    "    print(\"The year\", y, \"is a leap year\")\n",
    "else:\n",
    "   print(\"The year\", y, \"is a non-leap year\")"
   ]
  },
  {
   "cell_type": "code",
   "execution_count": 13,
   "metadata": {},
   "outputs": [
    {
     "name": "stdout",
     "output_type": "stream",
     "text": [
      "Enter an integer greater than one:5\n",
      "5 is a prime\n"
     ]
    }
   ],
   "source": [
    "#Write a Python Program to Check Prime Number?\n",
    "a=int(input(\"Enter an integer greater than one:\"))\n",
    "if a > 1:\n",
    "    if (a == 2 or a==3):\n",
    "        print (a, \" is a prime\")\n",
    "    if (a > 3):\n",
    "        for i in range(2,a):\n",
    "            if (a%i==0):\n",
    "                print (a, \"is not prime\")\n",
    "                break\n",
    "        else:\n",
    "                print (a, \"is a prime\")\n",
    "else:\n",
    "    print(\"Enter a value greater than one\")"
   ]
  },
  {
   "cell_type": "code",
   "execution_count": 17,
   "metadata": {},
   "outputs": [
    {
     "name": "stdout",
     "output_type": "stream",
     "text": [
      "Prime numbers between 1 and 1000 are:\n",
      "2  3  5  7  11  13  17  19  23  29  31  37  41  43  47  53  59  61  67  71  73  79  83  89  97  101  103  107  109  113  127  131  137  139  149  151  157  163  167  173  179  181  191  193  197  199  211  223  227  229  233  239  241  251  257  263  269  271  277  281  283  293  307  311  313  317  331  337  347  349  353  359  367  373  379  383  389  397  401  409  419  421  431  433  439  443  449  457  461  463  467  479  487  491  499  503  509  521  523  541  547  557  563  569  571  577  587  593  599  601  607  613  617  619  631  641  643  647  653  659  661  673  677  683  691  701  709  719  727  733  739  743  751  757  761  769  773  787  797  809  811  821  823  827  829  839  853  857  859  863  877  881  883  887  907  911  919  929  937  941  947  953  967  971  977  983  991  997  "
     ]
    }
   ],
   "source": [
    "# Python program to display all the prime numbers within an interval\n",
    "\n",
    "lower = 1\n",
    "upper = 1000\n",
    "\n",
    "print(\"Prime numbers between\", lower, \"and\", upper, \"are:\")\n",
    "\n",
    "for num in range(lower, upper + 1):\n",
    "   # all prime numbers are greater than 1\n",
    "   if num > 1:\n",
    "       for i in range(2, num):\n",
    "           if (num % i) == 0:\n",
    "               break\n",
    "       else:\n",
    "           print(num ,end=\"  \")"
   ]
  },
  {
   "cell_type": "code",
   "execution_count": 9,
   "metadata": {},
   "outputs": [],
   "source": []
  },
  {
   "cell_type": "code",
   "execution_count": null,
   "metadata": {},
   "outputs": [],
   "source": []
  }
 ],
 "metadata": {
  "kernelspec": {
   "display_name": "Python 3",
   "language": "python",
   "name": "python3"
  },
  "language_info": {
   "codemirror_mode": {
    "name": "ipython",
    "version": 3
   },
   "file_extension": ".py",
   "mimetype": "text/x-python",
   "name": "python",
   "nbconvert_exporter": "python",
   "pygments_lexer": "ipython3",
   "version": "3.8.5"
  }
 },
 "nbformat": 4,
 "nbformat_minor": 4
}
