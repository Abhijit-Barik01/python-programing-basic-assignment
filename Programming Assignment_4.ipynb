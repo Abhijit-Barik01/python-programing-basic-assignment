{
 "cells": [
  {
   "cell_type": "code",
   "execution_count": 1,
   "metadata": {},
   "outputs": [
    {
     "name": "stdout",
     "output_type": "stream",
     "text": [
      "Enter the number:5\n",
      "5 ! = 120\n"
     ]
    }
   ],
   "source": [
    "#1.Write a Python Program to Find the Factorial of a Number?\n",
    "n = int(input(\"Enter the number:\"))\n",
    "if(n<0):\n",
    "    print(\"Enter the positive number \")\n",
    "if(n==0):\n",
    "    print(n,\"!=\",1)\n",
    "if(n>0):\n",
    "    j=1\n",
    "    for i in range(1,n+1):\n",
    "        j=j*i\n",
    "    print(n,\"! =\",j)\n",
    "        "
   ]
  },
  {
   "cell_type": "code",
   "execution_count": 2,
   "metadata": {},
   "outputs": [
    {
     "name": "stdout",
     "output_type": "stream",
     "text": [
      "Enter the number:5\n",
      "\n",
      "\n",
      "Multiplication table for 5 \n",
      "\n",
      "5 x 1 = 5\n",
      "5 x 2 = 10\n",
      "5 x 3 = 15\n",
      "5 x 4 = 20\n",
      "5 x 5 = 25\n",
      "5 x 6 = 30\n",
      "5 x 7 = 35\n",
      "5 x 8 = 40\n",
      "5 x 9 = 45\n",
      "5 x 10 = 50\n"
     ]
    }
   ],
   "source": [
    "#2.Write a Python Program to Display the multiplication Table?\n",
    "n = int(input(\"Enter the number:\"))\n",
    "print(\"\\n\")\n",
    "\n",
    "if (n < 0 or n==0):\n",
    "    print(\"Enter a positive integer greater than zero\")\n",
    "    \n",
    "if (n > 0):\n",
    "    print(\"Multiplication table for\",n,\"\\n\")\n",
    "    for i in range(1,11):\n",
    "        print (n, \"x\", i,\"=\",n*i)"
   ]
  },
  {
   "cell_type": "code",
   "execution_count": 3,
   "metadata": {},
   "outputs": [
    {
     "name": "stdout",
     "output_type": "stream",
     "text": [
      "Enter how many numbers are required in the fibonacci sequence to be generated: 10\n",
      "\n",
      "\n",
      "0 1 1 2 3 5 8 13 21 34 "
     ]
    }
   ],
   "source": [
    "#3.Write a Python Program to Print the Fibonacci sequence?\n",
    "n = int(input(\"Enter how many numbers are required in the fibonacci sequence to be generated: \"))\n",
    "print(\"\\n\")\n",
    "\n",
    "if (n < 0 or n==0):\n",
    "    print(\"Enter a positive integer greater than zero\")\n",
    "    \n",
    "a=0\n",
    "b=1\n",
    "for i in range(0,n):\n",
    "        print(a,end=\" \")\n",
    "        temp = b\n",
    "        b=a+b\n",
    "        a=temp"
   ]
  },
  {
   "cell_type": "code",
   "execution_count": 9,
   "metadata": {},
   "outputs": [
    {
     "name": "stdout",
     "output_type": "stream",
     "text": [
      "Enter the lower Number100\n",
      "Enter the lower Number2000\n",
      "Armstrong Number : 153\n",
      "Armstrong Number : 370\n",
      "Armstrong Number : 371\n",
      "Armstrong Number : 407\n",
      "Armstrong Number : 1634\n"
     ]
    }
   ],
   "source": [
    "#4. Write a Python Program to Check Armstrong Number?\n",
    "#5. Write a Python Program to Find Armstrong Number in an Interval?\n",
    "lower = int(input(\"Enter the lower Number\"))\n",
    "upper = int(input(\"Enter the lower Number\"))\n",
    "for num in range(lower,upper+1):\n",
    "    order=len(str(num))\n",
    "    sum=0\n",
    "    temp = num\n",
    "    while temp> 0:\n",
    "        digit=temp%10\n",
    "        sum=sum+digit**order\n",
    "        temp=temp//10\n",
    "    \n",
    "    if num == sum:\n",
    "       print(\"Armstrong Number :\",num)\n",
    "       \n",
    "        \n",
    "\n",
    "\n",
    "\n",
    "\n",
    "\n"
   ]
  },
  {
   "cell_type": "code",
   "execution_count": 1,
   "metadata": {},
   "outputs": [
    {
     "name": "stdout",
     "output_type": "stream",
     "text": [
      "Enter the number:20\n",
      "\n",
      "\n",
      "Sum of first 20 natural numbers = 210\n"
     ]
    }
   ],
   "source": [
    "#6.Write a Python Program to Find the Sum of Natural Numbers?\n",
    "\n",
    "n = int(input(\"Enter the number:\"))\n",
    "print(\"\\n\")\n",
    "\n",
    "if (n < 0 or n==0):\n",
    "    print(\"Enter a positive integer greater than zero\")\n",
    "\n",
    "sum=0\n",
    "if (n>0):\n",
    "    for i in range(1,n+1):\n",
    "        sum=sum+i\n",
    "    print(\"Sum of first {} natural numbers = {}\".format(n,sum))"
   ]
  },
  {
   "cell_type": "code",
   "execution_count": null,
   "metadata": {},
   "outputs": [],
   "source": []
  }
 ],
 "metadata": {
  "kernelspec": {
   "display_name": "Python 3",
   "language": "python",
   "name": "python3"
  },
  "language_info": {
   "codemirror_mode": {
    "name": "ipython",
    "version": 3
   },
   "file_extension": ".py",
   "mimetype": "text/x-python",
   "name": "python",
   "nbconvert_exporter": "python",
   "pygments_lexer": "ipython3",
   "version": "3.8.5"
  }
 },
 "nbformat": 4,
 "nbformat_minor": 4
}
