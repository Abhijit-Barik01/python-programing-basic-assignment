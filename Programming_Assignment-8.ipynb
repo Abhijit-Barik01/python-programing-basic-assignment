{
 "cells": [
  {
   "cell_type": "markdown",
   "metadata": {},
   "source": [
    "Q-1 Write a Python Program to Add Two Matrices?\n",
    "x= [[12, 7, 3],[4,5,6],[7, 8 ,9]]\n",
    "y= [[5, 8, 1],[6, 7, 3],[4, 5, 9]]"
   ]
  },
  {
   "cell_type": "code",
   "execution_count": 1,
   "metadata": {},
   "outputs": [
    {
     "name": "stdout",
     "output_type": "stream",
     "text": [
      "[[17, 15, 4], [10, 12, 9], [11, 13, 18]]\n"
     ]
    }
   ],
   "source": [
    "x= [[12, 7, 3],[4,5,6],[7, 8 ,9]]\n",
    "y= [[5, 8, 1],[6, 7, 3],[4, 5, 9]]\n",
    "result= [[0, 0, 0],[0, 0, 0],[0, 0, 0]]\n",
    "for i in range (len(x)):\n",
    "    for j in range(len(x[0])):\n",
    "        result[i][j]= x[i][j]+ y[i][j]\n",
    "print(result)"
   ]
  },
  {
   "cell_type": "markdown",
   "metadata": {},
   "source": [
    "Q-2 Write a Python Program to Multiply Two Matrices?"
   ]
  },
  {
   "cell_type": "code",
   "execution_count": 2,
   "metadata": {},
   "outputs": [
    {
     "name": "stdout",
     "output_type": "stream",
     "text": [
      "[[60, 56, 3], [24, 35, 18], [28, 40, 81]]\n"
     ]
    }
   ],
   "source": [
    "x= [[12, 7, 3],[4,5,6],[7, 8 ,9]]\n",
    "y= [[5, 8, 1],[6, 7, 3],[4, 5, 9]]\n",
    "result= [[0, 0, 0],[0, 0, 0],[0, 0, 0]]\n",
    "for i in range (len(x)):\n",
    "    for j in range(len(x[0])):\n",
    "        result[i][j]= x[i][j]* y[i][j]\n",
    "print(result)"
   ]
  },
  {
   "cell_type": "markdown",
   "metadata": {},
   "source": [
    "Q-3 Write a Python Program to Transpose a Matrix?"
   ]
  },
  {
   "cell_type": "code",
   "execution_count": 3,
   "metadata": {},
   "outputs": [
    {
     "name": "stdout",
     "output_type": "stream",
     "text": [
      "\n",
      "\n",
      "[[1 4 7]\n",
      " [2 5 8]\n",
      " [3 6 9]]\n"
     ]
    }
   ],
   "source": [
    "import numpy as np\n",
    "matrix=[[1,2,3],[4 ,5 ,6],[7,8 ,9]]\n",
    "print(\"\\n\")\n",
    "print(np.transpose(matrix))"
   ]
  },
  {
   "cell_type": "markdown",
   "metadata": {},
   "source": [
    "Q-4 Write a Python Program to Sort Words in Alphabetic Order?"
   ]
  },
  {
   "cell_type": "code",
   "execution_count": null,
   "metadata": {},
   "outputs": [],
   "source": [
    "my_str= input( \"Enter a string \")"
   ]
  },
  {
   "cell_type": "code",
   "execution_count": null,
   "metadata": {},
   "outputs": [],
   "source": [
    "words= my_str.split()\n",
    "words.sort()\n",
    "#print(\"The sorted words are:\")\n",
    "for i in words:\n",
    "    print(i)"
   ]
  },
  {
   "cell_type": "markdown",
   "metadata": {},
   "source": [
    "Q-5.Write a Python Program to Remove Punctuation From a String?\n",
    "[Hint : Used regular expression package]"
   ]
  },
  {
   "cell_type": "code",
   "execution_count": 6,
   "metadata": {},
   "outputs": [],
   "source": [
    "import re\n",
    "a = \"abijit. barik. Removing. Punctuation??\""
   ]
  },
  {
   "cell_type": "code",
   "execution_count": 7,
   "metadata": {},
   "outputs": [],
   "source": [
    "a = re.sub(r'[^\\w\\s]',\" \",a)"
   ]
  },
  {
   "cell_type": "code",
   "execution_count": 8,
   "metadata": {},
   "outputs": [
    {
     "name": "stdout",
     "output_type": "stream",
     "text": [
      "abijit  barik  Removing  Punctuation  \n"
     ]
    }
   ],
   "source": [
    "print(a)"
   ]
  },
  {
   "cell_type": "code",
   "execution_count": null,
   "metadata": {},
   "outputs": [],
   "source": []
  }
 ],
 "metadata": {
  "kernelspec": {
   "display_name": "Python 3",
   "language": "python",
   "name": "python3"
  },
  "language_info": {
   "codemirror_mode": {
    "name": "ipython",
    "version": 3
   },
   "file_extension": ".py",
   "mimetype": "text/x-python",
   "name": "python",
   "nbconvert_exporter": "python",
   "pygments_lexer": "ipython3",
   "version": "3.8.5"
  }
 },
 "nbformat": 4,
 "nbformat_minor": 4
}
